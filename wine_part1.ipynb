{
 "cells": [
  {
   "cell_type": "code",
   "execution_count": 1,
   "metadata": {},
   "outputs": [],
   "source": [
    "import math\n",
    "from copy import deepcopy\n",
    "import pandas as pd\n",
    "import numpy as np\n",
    "import matplotlib\n",
    "import matplotlib.pyplot as plt\n",
    "from sklearn.linear_model import LinearRegression\n",
    "from sklearn.model_selection import train_test_split\n",
    "from sklearn.neighbors import KNeighborsClassifier\n",
    "from sklearn.impute import SimpleImputer"
   ]
  },
  {
   "cell_type": "code",
   "execution_count": 2,
   "metadata": {},
   "outputs": [
    {
     "data": {
      "text/html": [
       "<div>\n",
       "<style scoped>\n",
       "    .dataframe tbody tr th:only-of-type {\n",
       "        vertical-align: middle;\n",
       "    }\n",
       "\n",
       "    .dataframe tbody tr th {\n",
       "        vertical-align: top;\n",
       "    }\n",
       "\n",
       "    .dataframe thead th {\n",
       "        text-align: right;\n",
       "    }\n",
       "</style>\n",
       "<table border=\"1\" class=\"dataframe\">\n",
       "  <thead>\n",
       "    <tr style=\"text-align: right;\">\n",
       "      <th></th>\n",
       "      <th>country</th>\n",
       "      <th>description</th>\n",
       "      <th>designation</th>\n",
       "      <th>points</th>\n",
       "      <th>price</th>\n",
       "      <th>province</th>\n",
       "      <th>region_1</th>\n",
       "      <th>region_2</th>\n",
       "      <th>taster_name</th>\n",
       "      <th>taster_twitter_handle</th>\n",
       "      <th>title</th>\n",
       "      <th>variety</th>\n",
       "      <th>winery</th>\n",
       "    </tr>\n",
       "  </thead>\n",
       "  <tbody>\n",
       "    <tr>\n",
       "      <th>0</th>\n",
       "      <td>Italy</td>\n",
       "      <td>Aromas include tropical fruit, broom, brimston...</td>\n",
       "      <td>Vulkà Bianco</td>\n",
       "      <td>87</td>\n",
       "      <td>NaN</td>\n",
       "      <td>Sicily &amp; Sardinia</td>\n",
       "      <td>Etna</td>\n",
       "      <td>NaN</td>\n",
       "      <td>Kerin O’Keefe</td>\n",
       "      <td>@kerinokeefe</td>\n",
       "      <td>Nicosia 2013 Vulkà Bianco  (Etna)</td>\n",
       "      <td>White Blend</td>\n",
       "      <td>Nicosia</td>\n",
       "    </tr>\n",
       "    <tr>\n",
       "      <th>1</th>\n",
       "      <td>Portugal</td>\n",
       "      <td>This is ripe and fruity, a wine that is smooth...</td>\n",
       "      <td>Avidagos</td>\n",
       "      <td>87</td>\n",
       "      <td>15.0</td>\n",
       "      <td>Douro</td>\n",
       "      <td>NaN</td>\n",
       "      <td>NaN</td>\n",
       "      <td>Roger Voss</td>\n",
       "      <td>@vossroger</td>\n",
       "      <td>Quinta dos Avidagos 2011 Avidagos Red (Douro)</td>\n",
       "      <td>Portuguese Red</td>\n",
       "      <td>Quinta dos Avidagos</td>\n",
       "    </tr>\n",
       "    <tr>\n",
       "      <th>2</th>\n",
       "      <td>US</td>\n",
       "      <td>Tart and snappy, the flavors of lime flesh and...</td>\n",
       "      <td>NaN</td>\n",
       "      <td>87</td>\n",
       "      <td>14.0</td>\n",
       "      <td>Oregon</td>\n",
       "      <td>Willamette Valley</td>\n",
       "      <td>Willamette Valley</td>\n",
       "      <td>Paul Gregutt</td>\n",
       "      <td>@paulgwine</td>\n",
       "      <td>Rainstorm 2013 Pinot Gris (Willamette Valley)</td>\n",
       "      <td>Pinot Gris</td>\n",
       "      <td>Rainstorm</td>\n",
       "    </tr>\n",
       "    <tr>\n",
       "      <th>3</th>\n",
       "      <td>US</td>\n",
       "      <td>Pineapple rind, lemon pith and orange blossom ...</td>\n",
       "      <td>Reserve Late Harvest</td>\n",
       "      <td>87</td>\n",
       "      <td>13.0</td>\n",
       "      <td>Michigan</td>\n",
       "      <td>Lake Michigan Shore</td>\n",
       "      <td>NaN</td>\n",
       "      <td>Alexander Peartree</td>\n",
       "      <td>NaN</td>\n",
       "      <td>St. Julian 2013 Reserve Late Harvest Riesling ...</td>\n",
       "      <td>Riesling</td>\n",
       "      <td>St. Julian</td>\n",
       "    </tr>\n",
       "    <tr>\n",
       "      <th>4</th>\n",
       "      <td>US</td>\n",
       "      <td>Much like the regular bottling from 2012, this...</td>\n",
       "      <td>Vintner's Reserve Wild Child Block</td>\n",
       "      <td>87</td>\n",
       "      <td>65.0</td>\n",
       "      <td>Oregon</td>\n",
       "      <td>Willamette Valley</td>\n",
       "      <td>Willamette Valley</td>\n",
       "      <td>Paul Gregutt</td>\n",
       "      <td>@paulgwine</td>\n",
       "      <td>Sweet Cheeks 2012 Vintner's Reserve Wild Child...</td>\n",
       "      <td>Pinot Noir</td>\n",
       "      <td>Sweet Cheeks</td>\n",
       "    </tr>\n",
       "  </tbody>\n",
       "</table>\n",
       "</div>"
      ],
      "text/plain": [
       "    country                                        description  \\\n",
       "0     Italy  Aromas include tropical fruit, broom, brimston...   \n",
       "1  Portugal  This is ripe and fruity, a wine that is smooth...   \n",
       "2        US  Tart and snappy, the flavors of lime flesh and...   \n",
       "3        US  Pineapple rind, lemon pith and orange blossom ...   \n",
       "4        US  Much like the regular bottling from 2012, this...   \n",
       "\n",
       "                          designation  points  price           province  \\\n",
       "0                        Vulkà Bianco      87    NaN  Sicily & Sardinia   \n",
       "1                            Avidagos      87   15.0              Douro   \n",
       "2                                 NaN      87   14.0             Oregon   \n",
       "3                Reserve Late Harvest      87   13.0           Michigan   \n",
       "4  Vintner's Reserve Wild Child Block      87   65.0             Oregon   \n",
       "\n",
       "              region_1           region_2         taster_name  \\\n",
       "0                 Etna                NaN       Kerin O’Keefe   \n",
       "1                  NaN                NaN          Roger Voss   \n",
       "2    Willamette Valley  Willamette Valley        Paul Gregutt   \n",
       "3  Lake Michigan Shore                NaN  Alexander Peartree   \n",
       "4    Willamette Valley  Willamette Valley        Paul Gregutt   \n",
       "\n",
       "  taster_twitter_handle                                              title  \\\n",
       "0          @kerinokeefe                  Nicosia 2013 Vulkà Bianco  (Etna)   \n",
       "1            @vossroger      Quinta dos Avidagos 2011 Avidagos Red (Douro)   \n",
       "2           @paulgwine       Rainstorm 2013 Pinot Gris (Willamette Valley)   \n",
       "3                   NaN  St. Julian 2013 Reserve Late Harvest Riesling ...   \n",
       "4           @paulgwine   Sweet Cheeks 2012 Vintner's Reserve Wild Child...   \n",
       "\n",
       "          variety               winery  \n",
       "0     White Blend              Nicosia  \n",
       "1  Portuguese Red  Quinta dos Avidagos  \n",
       "2      Pinot Gris            Rainstorm  \n",
       "3        Riesling           St. Julian  \n",
       "4      Pinot Noir         Sweet Cheeks  "
      ]
     },
     "execution_count": 2,
     "metadata": {},
     "output_type": "execute_result"
    }
   ],
   "source": [
    "data = pd.read_csv('data/winemag-data-130k-v2.csv', sep=\",\", index_col=0)\n",
    "data.head()"
   ]
  },
  {
   "cell_type": "code",
   "execution_count": 3,
   "metadata": {},
   "outputs": [
    {
     "data": {
      "text/plain": [
       "country                   object\n",
       "description               object\n",
       "designation               object\n",
       "points                     int64\n",
       "price                    float64\n",
       "province                  object\n",
       "region_1                  object\n",
       "region_2                  object\n",
       "taster_name               object\n",
       "taster_twitter_handle     object\n",
       "title                     object\n",
       "variety                   object\n",
       "winery                    object\n",
       "dtype: object"
      ]
     },
     "execution_count": 3,
     "metadata": {},
     "output_type": "execute_result"
    }
   ],
   "source": [
    "data.dtypes"
   ]
  },
  {
   "cell_type": "code",
   "execution_count": 4,
   "metadata": {},
   "outputs": [
    {
     "data": {
      "text/plain": [
       "(129971, 13)"
      ]
     },
     "execution_count": 4,
     "metadata": {},
     "output_type": "execute_result"
    }
   ],
   "source": [
    "data.shape"
   ]
  },
  {
   "cell_type": "markdown",
   "metadata": {},
   "source": [
    "## Project goal"
   ]
  },
  {
   "cell_type": "markdown",
   "metadata": {},
   "source": [
    "The goal of this project is to predict the quality of wine based on several factors, such as place of winemaking (country, province, region, designation), winery, variety, price."
   ]
  },
  {
   "cell_type": "markdown",
   "metadata": {},
   "source": [
    "## Data cleaning"
   ]
  },
  {
   "cell_type": "code",
   "execution_count": 5,
   "metadata": {},
   "outputs": [
    {
     "data": {
      "text/html": [
       "<div>\n",
       "<style scoped>\n",
       "    .dataframe tbody tr th:only-of-type {\n",
       "        vertical-align: middle;\n",
       "    }\n",
       "\n",
       "    .dataframe tbody tr th {\n",
       "        vertical-align: top;\n",
       "    }\n",
       "\n",
       "    .dataframe thead th {\n",
       "        text-align: right;\n",
       "    }\n",
       "</style>\n",
       "<table border=\"1\" class=\"dataframe\">\n",
       "  <thead>\n",
       "    <tr style=\"text-align: right;\">\n",
       "      <th></th>\n",
       "      <th>country</th>\n",
       "      <th>designation</th>\n",
       "      <th>points</th>\n",
       "      <th>price</th>\n",
       "      <th>province</th>\n",
       "      <th>region_1</th>\n",
       "      <th>region_2</th>\n",
       "      <th>variety</th>\n",
       "      <th>winery</th>\n",
       "    </tr>\n",
       "  </thead>\n",
       "  <tbody>\n",
       "    <tr>\n",
       "      <th>119489</th>\n",
       "      <td>US</td>\n",
       "      <td>NaN</td>\n",
       "      <td>86</td>\n",
       "      <td>11.0</td>\n",
       "      <td>Virginia</td>\n",
       "      <td>Virginia</td>\n",
       "      <td>NaN</td>\n",
       "      <td>Chambourcin</td>\n",
       "      <td>Molliver Vineyards</td>\n",
       "    </tr>\n",
       "    <tr>\n",
       "      <th>33280</th>\n",
       "      <td>Italy</td>\n",
       "      <td>Lenzi Riserva</td>\n",
       "      <td>87</td>\n",
       "      <td>37.0</td>\n",
       "      <td>Tuscany</td>\n",
       "      <td>Chianti Classico</td>\n",
       "      <td>NaN</td>\n",
       "      <td>Sangiovese</td>\n",
       "      <td>Fattoria di Petroio</td>\n",
       "    </tr>\n",
       "    <tr>\n",
       "      <th>38808</th>\n",
       "      <td>Italy</td>\n",
       "      <td>Brut</td>\n",
       "      <td>88</td>\n",
       "      <td>30.0</td>\n",
       "      <td>Lombardy</td>\n",
       "      <td>Franciacorta</td>\n",
       "      <td>NaN</td>\n",
       "      <td>Sparkling Blend</td>\n",
       "      <td>Ronco Calino</td>\n",
       "    </tr>\n",
       "    <tr>\n",
       "      <th>32287</th>\n",
       "      <td>US</td>\n",
       "      <td>Lafond Vineyard</td>\n",
       "      <td>93</td>\n",
       "      <td>40.0</td>\n",
       "      <td>California</td>\n",
       "      <td>Sta. Rita Hills</td>\n",
       "      <td>Central Coast</td>\n",
       "      <td>Chardonnay</td>\n",
       "      <td>Lafond</td>\n",
       "    </tr>\n",
       "    <tr>\n",
       "      <th>43438</th>\n",
       "      <td>US</td>\n",
       "      <td>Jack London Vineyard</td>\n",
       "      <td>87</td>\n",
       "      <td>25.0</td>\n",
       "      <td>California</td>\n",
       "      <td>Sonoma Mountain</td>\n",
       "      <td>Sonoma</td>\n",
       "      <td>Merlot</td>\n",
       "      <td>Kenwood</td>\n",
       "    </tr>\n",
       "  </tbody>\n",
       "</table>\n",
       "</div>"
      ],
      "text/plain": [
       "       country           designation  points  price    province  \\\n",
       "119489      US                   NaN      86   11.0    Virginia   \n",
       "33280    Italy         Lenzi Riserva      87   37.0     Tuscany   \n",
       "38808    Italy                  Brut      88   30.0    Lombardy   \n",
       "32287       US       Lafond Vineyard      93   40.0  California   \n",
       "43438       US  Jack London Vineyard      87   25.0  California   \n",
       "\n",
       "                region_1       region_2          variety               winery  \n",
       "119489          Virginia            NaN      Chambourcin   Molliver Vineyards  \n",
       "33280   Chianti Classico            NaN       Sangiovese  Fattoria di Petroio  \n",
       "38808       Franciacorta            NaN  Sparkling Blend         Ronco Calino  \n",
       "32287    Sta. Rita Hills  Central Coast       Chardonnay               Lafond  \n",
       "43438    Sonoma Mountain         Sonoma           Merlot              Kenwood  "
      ]
     },
     "execution_count": 5,
     "metadata": {},
     "output_type": "execute_result"
    }
   ],
   "source": [
    "new_data = data.drop(columns=[\"taster_name\", \"taster_twitter_handle\", \"title\", \"description\"])\n",
    "new_data.sample(5)"
   ]
  },
  {
   "cell_type": "code",
   "execution_count": 6,
   "metadata": {},
   "outputs": [],
   "source": [
    "new_data.to_csv(\"data/wine_cleaned.csv\", index=False)"
   ]
  },
  {
   "cell_type": "markdown",
   "metadata": {},
   "source": [
    "## Dealing with missing values"
   ]
  },
  {
   "cell_type": "code",
   "execution_count": 7,
   "metadata": {},
   "outputs": [
    {
     "data": {
      "text/plain": [
       "True"
      ]
     },
     "execution_count": 7,
     "metadata": {},
     "output_type": "execute_result"
    }
   ],
   "source": [
    "new_data[\"country\"].dtype == 'O'"
   ]
  },
  {
   "cell_type": "code",
   "execution_count": 27,
   "metadata": {},
   "outputs": [],
   "source": [
    "def check_for_missings(data):\n",
    "    columns_with_missings = []\n",
    "    for col in data.columns:\n",
    "        if pd.isnull(data[col].unique()).any():\n",
    "            print(f\"Column '{col}' has {data[pd.isnull(data[col])].shape[0]} missing values\")\n",
    "            columns_with_missings.append(col)\n",
    "    return columns_with_missings"
   ]
  },
  {
   "cell_type": "code",
   "execution_count": 28,
   "metadata": {},
   "outputs": [
    {
     "name": "stdout",
     "output_type": "stream",
     "text": [
      "Column 'country' has 63 missing values\n",
      "Column 'designation' has 37465 missing values\n",
      "Column 'price' has 8996 missing values\n",
      "Column 'province' has 63 missing values\n",
      "Column 'region_1' has 21247 missing values\n",
      "Column 'region_2' has 79460 missing values\n",
      "Column 'variety' has 1 missing values\n"
     ]
    }
   ],
   "source": [
    "mv_replaced_data = deepcopy(new_data)\n",
    "columns_with_missings = check_for_missings(mv_replaced_data)"
   ]
  },
  {
   "cell_type": "markdown",
   "metadata": {},
   "source": [
    "### Apply global most common substitution"
   ]
  },
  {
   "cell_type": "code",
   "execution_count": 33,
   "metadata": {},
   "outputs": [],
   "source": [
    "for col in filter(lambda c: mv_replaced_data[c].dtype == \"O\", columns_with_missings):\n",
    "    most_popular = mv_replaced_data[col].mode()\n",
    "    mv_replaced_data.loc[pd.isnull(mv_replaced_data[col]), col] = most_popular[0]\n",
    "end = time()"
   ]
  },
  {
   "cell_type": "code",
   "execution_count": 30,
   "metadata": {},
   "outputs": [
    {
     "name": "stdout",
     "output_type": "stream",
     "text": [
      "Column 'price' has 8996 missing values\n"
     ]
    }
   ],
   "source": [
    "new_columns_with_missings = check_for_missings(mv_replaced_data)"
   ]
  },
  {
   "cell_type": "code",
   "execution_count": 31,
   "metadata": {},
   "outputs": [],
   "source": [
    "mean = mv_replaced_data.price.mean()\n",
    "mv_replaced_data.loc[pd.isnull(mv_replaced_data[\"price\"]), \"price\"] = np.round(mean, 4)"
   ]
  },
  {
   "cell_type": "code",
   "execution_count": 32,
   "metadata": {},
   "outputs": [
    {
     "data": {
      "text/plain": [
       "[]"
      ]
     },
     "execution_count": 32,
     "metadata": {},
     "output_type": "execute_result"
    }
   ],
   "source": [
    "check_for_missings(mv_replaced_data)"
   ]
  },
  {
   "cell_type": "markdown",
   "metadata": {},
   "source": [
    "### Test performance"
   ]
  },
  {
   "cell_type": "markdown",
   "metadata": {},
   "source": [
    "#### Prepare data"
   ]
  },
  {
   "cell_type": "markdown",
   "metadata": {},
   "source": [
    "Split data into X and y."
   ]
  },
  {
   "cell_type": "code",
   "execution_count": 22,
   "metadata": {},
   "outputs": [
    {
     "data": {
      "text/html": [
       "<div>\n",
       "<style scoped>\n",
       "    .dataframe tbody tr th:only-of-type {\n",
       "        vertical-align: middle;\n",
       "    }\n",
       "\n",
       "    .dataframe tbody tr th {\n",
       "        vertical-align: top;\n",
       "    }\n",
       "\n",
       "    .dataframe thead th {\n",
       "        text-align: right;\n",
       "    }\n",
       "</style>\n",
       "<table border=\"1\" class=\"dataframe\">\n",
       "  <thead>\n",
       "    <tr style=\"text-align: right;\">\n",
       "      <th></th>\n",
       "      <th>country</th>\n",
       "      <th>designation</th>\n",
       "      <th>price</th>\n",
       "      <th>province</th>\n",
       "      <th>region_1</th>\n",
       "      <th>region_2</th>\n",
       "      <th>variety</th>\n",
       "      <th>winery</th>\n",
       "    </tr>\n",
       "  </thead>\n",
       "  <tbody>\n",
       "    <tr>\n",
       "      <th>34374</th>\n",
       "      <td>US</td>\n",
       "      <td>Acquisition</td>\n",
       "      <td>49.0</td>\n",
       "      <td>Washington</td>\n",
       "      <td>Red Mountain</td>\n",
       "      <td>Columbia Valley</td>\n",
       "      <td>Cabernet Sauvignon</td>\n",
       "      <td>Market Vineyards</td>\n",
       "    </tr>\n",
       "    <tr>\n",
       "      <th>88905</th>\n",
       "      <td>France</td>\n",
       "      <td>Reserve</td>\n",
       "      <td>10.0</td>\n",
       "      <td>Languedoc-Roussillon</td>\n",
       "      <td>Vin de Pays d'Oc</td>\n",
       "      <td>Central Coast</td>\n",
       "      <td>Chardonnay</td>\n",
       "      <td>The Frenchhouse</td>\n",
       "    </tr>\n",
       "    <tr>\n",
       "      <th>23494</th>\n",
       "      <td>Australia</td>\n",
       "      <td>Bremerview</td>\n",
       "      <td>20.0</td>\n",
       "      <td>South Australia</td>\n",
       "      <td>Langhorne Creek</td>\n",
       "      <td>Central Coast</td>\n",
       "      <td>Shiraz</td>\n",
       "      <td>Bleasdale</td>\n",
       "    </tr>\n",
       "    <tr>\n",
       "      <th>17755</th>\n",
       "      <td>Australia</td>\n",
       "      <td>The Dry Dam</td>\n",
       "      <td>17.0</td>\n",
       "      <td>South Australia</td>\n",
       "      <td>McLaren Vale-Adelaide Hills</td>\n",
       "      <td>Central Coast</td>\n",
       "      <td>Riesling</td>\n",
       "      <td>D'Arenberg</td>\n",
       "    </tr>\n",
       "    <tr>\n",
       "      <th>71062</th>\n",
       "      <td>US</td>\n",
       "      <td>Reserve</td>\n",
       "      <td>25.0</td>\n",
       "      <td>California</td>\n",
       "      <td>Mendocino County</td>\n",
       "      <td>Central Coast</td>\n",
       "      <td>Petite Sirah</td>\n",
       "      <td>Artezin</td>\n",
       "    </tr>\n",
       "  </tbody>\n",
       "</table>\n",
       "</div>"
      ],
      "text/plain": [
       "         country  designation  price              province  \\\n",
       "34374         US  Acquisition   49.0            Washington   \n",
       "88905     France      Reserve   10.0  Languedoc-Roussillon   \n",
       "23494  Australia   Bremerview   20.0       South Australia   \n",
       "17755  Australia  The Dry Dam   17.0       South Australia   \n",
       "71062         US      Reserve   25.0            California   \n",
       "\n",
       "                          region_1         region_2             variety  \\\n",
       "34374                 Red Mountain  Columbia Valley  Cabernet Sauvignon   \n",
       "88905             Vin de Pays d'Oc    Central Coast          Chardonnay   \n",
       "23494              Langhorne Creek    Central Coast              Shiraz   \n",
       "17755  McLaren Vale-Adelaide Hills    Central Coast            Riesling   \n",
       "71062             Mendocino County    Central Coast        Petite Sirah   \n",
       "\n",
       "                 winery  \n",
       "34374  Market Vineyards  \n",
       "88905   The Frenchhouse  \n",
       "23494         Bleasdale  \n",
       "17755        D'Arenberg  \n",
       "71062           Artezin  "
      ]
     },
     "execution_count": 22,
     "metadata": {},
     "output_type": "execute_result"
    }
   ],
   "source": [
    "data_for_model = deepcopy(mv_replaced_data)\n",
    "y = data_for_model.points\n",
    "X = data_for_model.drop(columns=[\"points\"])\n",
    "X.sample(5)"
   ]
  },
  {
   "cell_type": "markdown",
   "metadata": {},
   "source": [
    "Transform string values in X into numerical ones. Note that we can not use function pandas.get_dummies(), as columns have many different values, which results into too much columns to fit into memory. So we have to maually assign to every unique value in column a number.\n",
    "Note also that almost every column has to be transformed except for 'price'"
   ]
  },
  {
   "cell_type": "code",
   "execution_count": 23,
   "metadata": {},
   "outputs": [],
   "source": [
    "for col in [\"country\", \"province\", \"region_1\", \"region_2\", \"variety\", \"winery\"]:\n",
    "    unique = X[col].unique()\n",
    "    mapping = dict(map(lambda x: [x[1], x[0]], enumerate(unique)))\n",
    "    new_col = X[col].replace(mapping)\n",
    "    X[col] = new_col"
   ]
  },
  {
   "cell_type": "code",
   "execution_count": null,
   "metadata": {},
   "outputs": [],
   "source": [
    "col = \"designation\"\n",
    "unique = X[col].unique()\n",
    "mapping = dict(map(lambda x: [x[1], x[0]], enumerate(unique)))\n",
    "new_col = X[col].replace(mapping)\n",
    "X[col] = new_col"
   ]
  },
  {
   "cell_type": "markdown",
   "metadata": {},
   "source": [
    "Split X and y into train and test parts with 4:1 correspondence"
   ]
  },
  {
   "cell_type": "code",
   "execution_count": 207,
   "metadata": {},
   "outputs": [],
   "source": [
    "x_train, x_test, y_train, y_test = train_test_split(X, y, test_size=0.2, random_state=42)"
   ]
  },
  {
   "cell_type": "markdown",
   "metadata": {},
   "source": [
    "Train linear regression and test its performance"
   ]
  },
  {
   "cell_type": "code",
   "execution_count": 208,
   "metadata": {},
   "outputs": [
    {
     "name": "stdout",
     "output_type": "stream",
     "text": [
      "Train accuracy: 0.18018379153289743\n",
      "Test accuracy: 0.17184699220932476\n"
     ]
    }
   ],
   "source": [
    "lr = LinearRegression()\n",
    "lr.fit(x_train, y_train)\n",
    "print(\"Train accuracy:\", lr.score(x_train, y_train))\n",
    "print(\"Test accuracy:\",  lr.score(x_test, y_test))"
   ]
  },
  {
   "cell_type": "markdown",
   "metadata": {},
   "source": [
    "### Apply KNN approach"
   ]
  },
  {
   "cell_type": "code",
   "execution_count": null,
   "metadata": {
    "collapsed": true
   },
   "outputs": [],
   "source": [
    "knn_replaced_data = new_data.copy(deep=True)"
   ]
  },
  {
   "cell_type": "markdown",
   "metadata": {},
   "source": [
    "\n",
    "Investigate amount of missing values in each column"
   ]
  },
  {
   "cell_type": "code",
   "execution_count": null,
   "metadata": {
    "collapsed": true
   },
   "outputs": [],
   "source": [
    "for col in knn_replaced_data.columns:\n",
    "    print(f\"Missings in '{col}' column: {knn_replaced_data[pd.isnull(knn_replaced_data[col])].shape[0]}\")"
   ]
  },
  {
   "cell_type": "markdown",
   "metadata": {},
   "source": [
    "### Impute column 'country'"
   ]
  },
  {
   "cell_type": "markdown",
   "metadata": {},
   "source": [
    "Impute other columns using global most common substitution"
   ]
  },
  {
   "cell_type": "code",
   "execution_count": null,
   "metadata": {
    "collapsed": true
   },
   "outputs": [],
   "source": [
    "categ_imputer = SimpleImputer(missing_values=np.nan, strategy='most_frequent')\n",
    "num_imputer = SimpleImputer(missing_values=np.nan, strategy='mean')"
   ]
  },
  {
   "cell_type": "code",
   "execution_count": null,
   "metadata": {
    "collapsed": true
   },
   "outputs": [],
   "source": [
    "dataset = knn_replaced_data.copy(deep=True)\n",
    "dataset[[\"designation\", \"province\", \"region_1\", \"region_2\", \"variety\"]] = \\\n",
    "    categ_imputer.fit_transform(dataset[[\"designation\", \"province\", \"region_1\", \"region_2\",\n",
    "                                         \"variety\"]])\n",
    "dataset[[\"price\"]] = num_imputer.fit_transform(dataset[[\"price\"]])"
   ]
  },
  {
   "cell_type": "markdown",
   "metadata": {},
   "source": [
    "Get dummies"
   ]
  },
  {
   "cell_type": "code",
   "execution_count": null,
   "metadata": {
    "collapsed": true
   },
   "outputs": [],
   "source": [
    "for col in [\"province\", \"region_1\", \"region_2\", \"variety\", \"winery\"]:\n",
    "    unique = dataset[col].unique()\n",
    "    mapping = dict(map(lambda x: [x[1], x[0]], enumerate(unique)))\n",
    "    new_col = dataset[col].replace(mapping)\n",
    "    dataset[col] = new_col"
   ]
  },
  {
   "cell_type": "code",
   "execution_count": null,
   "metadata": {
    "collapsed": true
   },
   "outputs": [],
   "source": [
    "col = \"designation\"\n",
    "unique = dataset[col].unique()\n",
    "mapping = dict(map(lambda x: [x[1], x[0]], enumerate(unique)))\n",
    "new_col = dataset[col].replace(mapping)\n",
    "dataset[col] = new_col"
   ]
  },
  {
   "cell_type": "markdown",
   "metadata": {},
   "source": [
    "Get rows for train and predict"
   ]
  },
  {
   "cell_type": "code",
   "execution_count": null,
   "metadata": {
    "collapsed": true
   },
   "outputs": [],
   "source": [
    "target = \"country\"\n",
    "# for train\n",
    "train = dataset[np.bitwise_not(pd.isnull(dataset.country))]\n",
    "x_train = train.loc[:, train.columns != target]\n",
    "y_train = train.loc[:, train.columns == target]\n",
    "\n",
    "# for predict\n",
    "predict = dataset[pd.isnull(dataset.country)]\n",
    "x_predict = predict.loc[:, predict.columns != target]"
   ]
  },
  {
   "cell_type": "markdown",
   "metadata": {},
   "source": [
    "Train KNN"
   ]
  },
  {
   "cell_type": "code",
   "execution_count": null,
   "metadata": {
    "collapsed": true
   },
   "outputs": [],
   "source": [
    "knn_classifier = KNeighborsClassifier(n_neighbors=30, leaf_size=100, n_jobs=-1)\n",
    "knn_classifier.fit(x_train, y_train)"
   ]
  },
  {
   "cell_type": "markdown",
   "metadata": {},
   "source": [
    "Make prediction"
   ]
  },
  {
   "cell_type": "code",
   "execution_count": null,
   "metadata": {
    "collapsed": true
   },
   "outputs": [],
   "source": [
    "y_predict = knn_classifier.predict(x_predict)\n",
    "dataset.country[pd.isnull(dataset.country)] = y_predict"
   ]
  },
  {
   "cell_type": "code",
   "execution_count": null,
   "metadata": {
    "collapsed": true
   },
   "outputs": [],
   "source": [
    "knn_replaced_data.country = dataset.country"
   ]
  },
  {
   "cell_type": "code",
   "execution_count": null,
   "metadata": {
    "collapsed": true
   },
   "outputs": [],
   "source": [
    "knn_replaced_data.head(5)"
   ]
  },
  {
   "cell_type": "markdown",
   "metadata": {},
   "source": [
    "### Impute 'designation'"
   ]
  },
  {
   "cell_type": "code",
   "execution_count": null,
   "metadata": {
    "collapsed": true
   },
   "outputs": [],
   "source": [
    "dataset = knn_replaced_data.copy(deep=True)\n",
    "dataset[[\"province\", \"region_1\", \"region_2\", \"variety\"]] = \\\n",
    "    categ_imputer.fit_transform(dataset[[\"province\", \"region_1\", \"region_2\", \"variety\",]])\n",
    "dataset[[\"price\"]] = num_imputer.fit_transform(dataset[[\"price\"]])"
   ]
  },
  {
   "cell_type": "code",
   "execution_count": null,
   "metadata": {
    "collapsed": true
   },
   "outputs": [],
   "source": [
    "for col in [\"country\", \"province\", \"region_1\", \"region_2\", \"variety\", \"winery\"]:\n",
    "    unique = dataset[col].unique()\n",
    "    mapping = dict(map(lambda x: [x[1], x[0]], enumerate(unique)))\n",
    "    new_col = dataset[col].replace(mapping)\n",
    "    dataset[col] = new_col"
   ]
  },
  {
   "cell_type": "code",
   "execution_count": null,
   "metadata": {
    "collapsed": true
   },
   "outputs": [],
   "source": [
    "target = \"designation\"\n",
    "# for train\n",
    "train = dataset[np.bitwise_not(pd.isnull(dataset[target]))]\n",
    "x_train = train.loc[:, train.columns != target]\n",
    "y_train = train.loc[:, train.columns == target]\n",
    "\n",
    "# for predict\n",
    "predict = dataset[pd.isnull(dataset[target])]\n",
    "x_predict = predict.loc[:, predict.columns != target]"
   ]
  },
  {
   "cell_type": "code",
   "execution_count": null,
   "metadata": {
    "collapsed": true
   },
   "outputs": [],
   "source": [
    "knn_classifier = KNeighborsClassifier(n_neighbors=30, leaf_size=100, n_jobs=-1)\n",
    "knn_classifier.fit(x_train, y_train)"
   ]
  },
  {
   "cell_type": "code",
   "execution_count": null,
   "metadata": {
    "collapsed": true
   },
   "outputs": [],
   "source": [
    "y_predict = knn_classifier.predict(x_predict)\n",
    "dataset.designation[pd.isnull(dataset.designation)] = y_predict"
   ]
  },
  {
   "cell_type": "code",
   "execution_count": null,
   "metadata": {
    "collapsed": true
   },
   "outputs": [],
   "source": [
    "knn_replaced_data.designation = dataset.designation"
   ]
  },
  {
   "cell_type": "code",
   "execution_count": null,
   "metadata": {
    "collapsed": true
   },
   "outputs": [],
   "source": [
    "knn_replaced_data.head()"
   ]
  },
  {
   "cell_type": "markdown",
   "metadata": {},
   "source": [
    "### Impute 'province'"
   ]
  },
  {
   "cell_type": "code",
   "execution_count": null,
   "metadata": {
    "collapsed": true
   },
   "outputs": [],
   "source": [
    "dataset = knn_replaced_data.copy(deep=True)\n",
    "dataset[[\"region_1\", \"region_2\", \"variety\"]] = \\\n",
    "    categ_imputer.fit_transform(dataset[[\"region_1\", \"region_2\", \"variety\",]])\n",
    "dataset[[\"price\"]] = num_imputer.fit_transform(dataset[[\"price\"]])"
   ]
  },
  {
   "cell_type": "code",
   "execution_count": null,
   "metadata": {
    "collapsed": true
   },
   "outputs": [],
   "source": [
    "for col in [\"country\", \"region_1\", \"region_2\", \"variety\", \"winery\"]:\n",
    "    unique = dataset[col].unique()\n",
    "    mapping = dict(map(lambda x: [x[1], x[0]], enumerate(unique)))\n",
    "    new_col = dataset[col].replace(mapping)\n",
    "    dataset[col] = new_col"
   ]
  },
  {
   "cell_type": "code",
   "execution_count": null,
   "metadata": {
    "collapsed": true
   },
   "outputs": [],
   "source": [
    "col = \"designation\"\n",
    "unique = dataset[col].unique()\n",
    "mapping = dict(map(lambda x: [x[1], x[0]], enumerate(unique)))\n",
    "new_col = dataset[col].replace(mapping)\n",
    "dataset[col] = new_col"
   ]
  },
  {
   "cell_type": "code",
   "execution_count": null,
   "metadata": {
    "collapsed": true
   },
   "outputs": [],
   "source": [
    "target = \"province\"\n",
    "# for train\n",
    "train = dataset[np.bitwise_not(pd.isnull(dataset[target]))]\n",
    "x_train = train.loc[:, train.columns != target]\n",
    "y_train = train.loc[:, train.columns == target]\n",
    "\n",
    "# for predict\n",
    "predict = dataset[pd.isnull(dataset[target])]\n",
    "x_predict = predict.loc[:, predict.columns != target]"
   ]
  },
  {
   "cell_type": "code",
   "execution_count": null,
   "metadata": {
    "collapsed": true
   },
   "outputs": [],
   "source": [
    "knn_classifier = KNeighborsClassifier(n_neighbors=30, leaf_size=100, n_jobs=-1)\n",
    "knn_classifier.fit(x_train, y_train)"
   ]
  },
  {
   "cell_type": "code",
   "execution_count": null,
   "metadata": {
    "collapsed": true
   },
   "outputs": [],
   "source": [
    "y_predict = knn_classifier.predict(x_predict)\n",
    "dataset.province[pd.isnull(dataset.province)] = y_predict"
   ]
  },
  {
   "cell_type": "code",
   "execution_count": null,
   "metadata": {
    "collapsed": true
   },
   "outputs": [],
   "source": [
    "knn_replaced_data.province = dataset.province"
   ]
  },
  {
   "cell_type": "code",
   "execution_count": null,
   "metadata": {
    "collapsed": true
   },
   "outputs": [],
   "source": [
    "knn_replaced_data.head()"
   ]
  },
  {
   "cell_type": "markdown",
   "metadata": {},
   "source": [
    "### Impute 'price'"
   ]
  },
  {
   "cell_type": "code",
   "execution_count": null,
   "metadata": {
    "collapsed": true
   },
   "outputs": [],
   "source": [
    "dataset = knn_replaced_data.copy(deep=True)\n",
    "dataset[[\"region_1\", \"region_2\", \"variety\"]] = \\\n",
    "    categ_imputer.fit_transform(dataset[[\"region_1\", \"region_2\", \"variety\",]])"
   ]
  },
  {
   "cell_type": "code",
   "execution_count": null,
   "metadata": {
    "collapsed": true
   },
   "outputs": [],
   "source": [
    "for col in [\"country\", \"province\", \"region_1\", \"region_2\", \"variety\", \"winery\"]:\n",
    "    unique = dataset[col].unique()\n",
    "    mapping = dict(map(lambda x: [x[1], x[0]], enumerate(unique)))\n",
    "    new_col = dataset[col].replace(mapping)\n",
    "    dataset[col] = new_col"
   ]
  },
  {
   "cell_type": "code",
   "execution_count": null,
   "metadata": {
    "collapsed": true
   },
   "outputs": [],
   "source": [
    "col = \"designation\"\n",
    "unique = dataset[col].unique()\n",
    "mapping = dict(map(lambda x: [x[1], x[0]], enumerate(unique)))\n",
    "new_col = dataset[col].replace(mapping)\n",
    "dataset[col] = new_col"
   ]
  },
  {
   "cell_type": "code",
   "execution_count": null,
   "metadata": {
    "collapsed": true
   },
   "outputs": [],
   "source": [
    "target = \"price\"\n",
    "# for train\n",
    "train = dataset[np.bitwise_not(pd.isnull(dataset[target]))]\n",
    "x_train = train.loc[:, train.columns != target]\n",
    "y_train = train.loc[:, train.columns == target]\n",
    "\n",
    "# for predict\n",
    "predict = dataset[pd.isnull(dataset[target])]\n",
    "x_predict = predict.loc[:, predict.columns != target]"
   ]
  },
  {
   "cell_type": "code",
   "execution_count": null,
   "metadata": {
    "collapsed": true
   },
   "outputs": [],
   "source": [
    "knn_classifier = KNeighborsClassifier(n_neighbors=30, leaf_size=100, n_jobs=-1)\n",
    "knn_classifier.fit(x_train, y_train)"
   ]
  },
  {
   "cell_type": "code",
   "execution_count": null,
   "metadata": {
    "collapsed": true
   },
   "outputs": [],
   "source": [
    "y_predict = knn_classifier.predict(x_predict)\n",
    "dataset.price[pd.isnull(dataset.price)] = y_predict"
   ]
  },
  {
   "cell_type": "code",
   "execution_count": null,
   "metadata": {
    "collapsed": true
   },
   "outputs": [],
   "source": [
    "knn_replaced_data.price = dataset.price"
   ]
  },
  {
   "cell_type": "code",
   "execution_count": null,
   "metadata": {
    "collapsed": true
   },
   "outputs": [],
   "source": [
    "knn_replaced_data.head()"
   ]
  },
  {
   "cell_type": "markdown",
   "metadata": {},
   "source": [
    "### Impute 'region_1'"
   ]
  },
  {
   "cell_type": "code",
   "execution_count": null,
   "metadata": {
    "collapsed": true
   },
   "outputs": [],
   "source": [
    "dataset = knn_replaced_data.copy(deep=True)\n",
    "dataset[[\"region_2\", \"variety\"]] = \\\n",
    "    categ_imputer.fit_transform(dataset[[\"region_2\", \"variety\",]])"
   ]
  },
  {
   "cell_type": "code",
   "execution_count": null,
   "metadata": {
    "collapsed": true
   },
   "outputs": [],
   "source": [
    "for col in [\"country\", \"province\", \"region_2\", \"variety\", \"winery\"]:\n",
    "    unique = dataset[col].unique()\n",
    "    mapping = dict(map(lambda x: [x[1], x[0]], enumerate(unique)))\n",
    "    new_col = dataset[col].replace(mapping)\n",
    "    dataset[col] = new_col"
   ]
  },
  {
   "cell_type": "code",
   "execution_count": null,
   "metadata": {
    "collapsed": true
   },
   "outputs": [],
   "source": [
    "col = \"designation\"\n",
    "unique = dataset[col].unique()\n",
    "mapping = dict(map(lambda x: [x[1], x[0]], enumerate(unique)))\n",
    "new_col = dataset[col].replace(mapping)\n",
    "dataset[col] = new_col"
   ]
  },
  {
   "cell_type": "code",
   "execution_count": null,
   "metadata": {
    "collapsed": true
   },
   "outputs": [],
   "source": [
    "target = \"region_1\"\n",
    "# for train\n",
    "train = dataset[np.bitwise_not(pd.isnull(dataset[target]))]\n",
    "x_train = train.loc[:, train.columns != target]\n",
    "y_train = train.loc[:, train.columns == target]\n",
    "\n",
    "# for predict\n",
    "predict = dataset[pd.isnull(dataset[target])]\n",
    "x_predict = predict.loc[:, predict.columns != target]"
   ]
  },
  {
   "cell_type": "code",
   "execution_count": null,
   "metadata": {
    "collapsed": true
   },
   "outputs": [],
   "source": [
    "knn_classifier = KNeighborsClassifier(n_neighbors=30, leaf_size=100, n_jobs=-1)\n",
    "knn_classifier.fit(x_train, y_train)"
   ]
  },
  {
   "cell_type": "code",
   "execution_count": null,
   "metadata": {
    "collapsed": true
   },
   "outputs": [],
   "source": [
    "y_predict = knn_classifier.predict(x_predict)\n",
    "dataset.region_1[pd.isnull(dataset.region_1)] = y_predict"
   ]
  },
  {
   "cell_type": "code",
   "execution_count": null,
   "metadata": {
    "collapsed": true
   },
   "outputs": [],
   "source": [
    "dataset.sample(5)"
   ]
  },
  {
   "cell_type": "code",
   "execution_count": null,
   "metadata": {
    "collapsed": true
   },
   "outputs": [],
   "source": [
    "knn_replaced_data.region_1 = dataset.region_1"
   ]
  },
  {
   "cell_type": "code",
   "execution_count": 188,
   "metadata": {},
   "outputs": [
    {
     "data": {
      "text/html": [
       "<div>\n",
       "<style scoped>\n",
       "    .dataframe tbody tr th:only-of-type {\n",
       "        vertical-align: middle;\n",
       "    }\n",
       "\n",
       "    .dataframe tbody tr th {\n",
       "        vertical-align: top;\n",
       "    }\n",
       "\n",
       "    .dataframe thead th {\n",
       "        text-align: right;\n",
       "    }\n",
       "</style>\n",
       "<table border=\"1\" class=\"dataframe\">\n",
       "  <thead>\n",
       "    <tr style=\"text-align: right;\">\n",
       "      <th></th>\n",
       "      <th>country</th>\n",
       "      <th>designation</th>\n",
       "      <th>points</th>\n",
       "      <th>price</th>\n",
       "      <th>province</th>\n",
       "      <th>region_1</th>\n",
       "      <th>region_2</th>\n",
       "      <th>variety</th>\n",
       "      <th>winery</th>\n",
       "    </tr>\n",
       "  </thead>\n",
       "  <tbody>\n",
       "    <tr>\n",
       "      <th>0</th>\n",
       "      <td>Italy</td>\n",
       "      <td>Vulkà Bianco</td>\n",
       "      <td>87</td>\n",
       "      <td>16.0</td>\n",
       "      <td>Sicily &amp; Sardinia</td>\n",
       "      <td>Etna</td>\n",
       "      <td>NaN</td>\n",
       "      <td>White Blend</td>\n",
       "      <td>Nicosia</td>\n",
       "    </tr>\n",
       "    <tr>\n",
       "      <th>1</th>\n",
       "      <td>Portugal</td>\n",
       "      <td>Avidagos</td>\n",
       "      <td>87</td>\n",
       "      <td>15.0</td>\n",
       "      <td>Douro</td>\n",
       "      <td>Alsace</td>\n",
       "      <td>NaN</td>\n",
       "      <td>Portuguese Red</td>\n",
       "      <td>Quinta dos Avidagos</td>\n",
       "    </tr>\n",
       "    <tr>\n",
       "      <th>2</th>\n",
       "      <td>US</td>\n",
       "      <td>Kabinett</td>\n",
       "      <td>87</td>\n",
       "      <td>14.0</td>\n",
       "      <td>Oregon</td>\n",
       "      <td>Willamette Valley</td>\n",
       "      <td>Willamette Valley</td>\n",
       "      <td>Pinot Gris</td>\n",
       "      <td>Rainstorm</td>\n",
       "    </tr>\n",
       "    <tr>\n",
       "      <th>3</th>\n",
       "      <td>US</td>\n",
       "      <td>Reserve Late Harvest</td>\n",
       "      <td>87</td>\n",
       "      <td>13.0</td>\n",
       "      <td>Michigan</td>\n",
       "      <td>Lake Michigan Shore</td>\n",
       "      <td>NaN</td>\n",
       "      <td>Riesling</td>\n",
       "      <td>St. Julian</td>\n",
       "    </tr>\n",
       "    <tr>\n",
       "      <th>4</th>\n",
       "      <td>US</td>\n",
       "      <td>Vintner's Reserve Wild Child Block</td>\n",
       "      <td>87</td>\n",
       "      <td>65.0</td>\n",
       "      <td>Oregon</td>\n",
       "      <td>Willamette Valley</td>\n",
       "      <td>Willamette Valley</td>\n",
       "      <td>Pinot Noir</td>\n",
       "      <td>Sweet Cheeks</td>\n",
       "    </tr>\n",
       "  </tbody>\n",
       "</table>\n",
       "</div>"
      ],
      "text/plain": [
       "    country                         designation  points  price  \\\n",
       "0     Italy                        Vulkà Bianco      87   16.0   \n",
       "1  Portugal                            Avidagos      87   15.0   \n",
       "2        US                            Kabinett      87   14.0   \n",
       "3        US                Reserve Late Harvest      87   13.0   \n",
       "4        US  Vintner's Reserve Wild Child Block      87   65.0   \n",
       "\n",
       "            province             region_1           region_2         variety  \\\n",
       "0  Sicily & Sardinia                 Etna                NaN     White Blend   \n",
       "1              Douro               Alsace                NaN  Portuguese Red   \n",
       "2             Oregon    Willamette Valley  Willamette Valley      Pinot Gris   \n",
       "3           Michigan  Lake Michigan Shore                NaN        Riesling   \n",
       "4             Oregon    Willamette Valley  Willamette Valley      Pinot Noir   \n",
       "\n",
       "                winery  \n",
       "0              Nicosia  \n",
       "1  Quinta dos Avidagos  \n",
       "2            Rainstorm  \n",
       "3           St. Julian  \n",
       "4         Sweet Cheeks  "
      ]
     },
     "execution_count": 188,
     "metadata": {},
     "output_type": "execute_result"
    }
   ],
   "source": [
    "knn_replaced_data.head()"
   ]
  },
  {
   "cell_type": "markdown",
   "metadata": {},
   "source": [
    "### Impute 'region_2'"
   ]
  },
  {
   "cell_type": "code",
   "execution_count": null,
   "metadata": {},
   "outputs": [],
   "source": [
    "dataset = knn_replaced_data.copy(deep=True)\n",
    "dataset[[\"variety\"]] = \\\n",
    "    categ_imputer.fit_transform(dataset[[\"variety\"]])"
   ]
  },
  {
   "cell_type": "code",
   "execution_count": null,
   "metadata": {},
   "outputs": [],
   "source": [
    "for col in [\"country\", \"province\", \"region_1\", \"variety\", \"winery\"]:\n",
    "    unique = dataset[col].unique()\n",
    "    mapping = dict(map(lambda x: [x[1], x[0]], enumerate(unique)))\n",
    "    new_col = dataset[col].replace(mapping)\n",
    "    dataset[col] = new_col"
   ]
  },
  {
   "cell_type": "code",
   "execution_count": null,
   "metadata": {},
   "outputs": [],
   "source": [
    "col = \"designation\"\n",
    "unique = dataset[col].unique()\n",
    "mapping = dict(map(lambda x: [x[1], x[0]], enumerate(unique)))\n",
    "new_col = dataset[col].replace(mapping)\n",
    "dataset[col] = new_col"
   ]
  },
  {
   "cell_type": "code",
   "execution_count": null,
   "metadata": {},
   "outputs": [],
   "source": [
    "target = \"region_2\"\n",
    "# for train\n",
    "train = dataset[np.bitwise_not(pd.isnull(dataset[target]))]\n",
    "x_train = train.loc[:, train.columns != target]\n",
    "y_train = train.loc[:, train.columns == target]\n",
    "\n",
    "# for predict\n",
    "predict = dataset[pd.isnull(dataset[target])]\n",
    "x_predict = predict.loc[:, predict.columns != target]"
   ]
  },
  {
   "cell_type": "code",
   "execution_count": null,
   "metadata": {},
   "outputs": [],
   "source": [
    "knn_classifier = KNeighborsClassifier(n_neighbors=30, leaf_size=100, n_jobs=-1)\n",
    "knn_classifier.fit(x_train, y_train)"
   ]
  },
  {
   "cell_type": "code",
   "execution_count": null,
   "metadata": {},
   "outputs": [],
   "source": [
    "y_predict = knn_classifier.predict(x_predict)\n",
    "dataset.region_2[pd.isnull(dataset.region_2)] = y_predict"
   ]
  },
  {
   "cell_type": "code",
   "execution_count": null,
   "metadata": {},
   "outputs": [],
   "source": [
    "knn_replaced_data.region_2 = dataset.region_2"
   ]
  },
  {
   "cell_type": "code",
   "execution_count": null,
   "metadata": {},
   "outputs": [],
   "source": [
    "knn_replaced_data.head()"
   ]
  },
  {
   "cell_type": "markdown",
   "metadata": {},
   "source": [
    "Since column 'variety' has a single missing value replace it using global most common substitution"
   ]
  },
  {
   "cell_type": "code",
   "execution_count": null,
   "metadata": {
    "collapsed": true
   },
   "outputs": [],
   "source": [
    "knn_replaced_data.variety = categ_imputer.fit_transform(knn_replaced_data.variety)"
   ]
  },
  {
   "cell_type": "markdown",
   "metadata": {},
   "source": [
    "### Test performance"
   ]
  },
  {
   "cell_type": "markdown",
   "metadata": {},
   "source": [
    "#### Prepare data"
   ]
  },
  {
   "cell_type": "code",
   "execution_count": 199,
   "metadata": {},
   "outputs": [],
   "source": [
    "data_for_model = deepcopy(knn_replaced_data)\n",
    "y = data_for_model.points\n",
    "X = data_for_model.drop(columns=[\"points\"])"
   ]
  },
  {
   "cell_type": "code",
   "execution_count": 200,
   "metadata": {},
   "outputs": [
    {
     "name": "stdout",
     "output_type": "stream",
     "text": [
      "country\n",
      "designation\n",
      "province\n",
      "region_1\n",
      "region_2\n",
      "variety\n",
      "winery\n"
     ]
    },
    {
     "data": {
      "text/html": [
       "<div>\n",
       "<style scoped>\n",
       "    .dataframe tbody tr th:only-of-type {\n",
       "        vertical-align: middle;\n",
       "    }\n",
       "\n",
       "    .dataframe tbody tr th {\n",
       "        vertical-align: top;\n",
       "    }\n",
       "\n",
       "    .dataframe thead th {\n",
       "        text-align: right;\n",
       "    }\n",
       "</style>\n",
       "<table border=\"1\" class=\"dataframe\">\n",
       "  <thead>\n",
       "    <tr style=\"text-align: right;\">\n",
       "      <th></th>\n",
       "      <th>country</th>\n",
       "      <th>designation</th>\n",
       "      <th>points</th>\n",
       "      <th>price</th>\n",
       "      <th>province</th>\n",
       "      <th>region_1</th>\n",
       "      <th>region_2</th>\n",
       "      <th>variety</th>\n",
       "      <th>winery</th>\n",
       "    </tr>\n",
       "  </thead>\n",
       "  <tbody>\n",
       "    <tr>\n",
       "      <th>9449</th>\n",
       "      <td>9</td>\n",
       "      <td>2225</td>\n",
       "      <td>92</td>\n",
       "      <td>19.0</td>\n",
       "      <td>79</td>\n",
       "      <td>79</td>\n",
       "      <td>6</td>\n",
       "      <td>42</td>\n",
       "      <td>3454</td>\n",
       "    </tr>\n",
       "    <tr>\n",
       "      <th>127660</th>\n",
       "      <td>0</td>\n",
       "      <td>6346</td>\n",
       "      <td>90</td>\n",
       "      <td>58.0</td>\n",
       "      <td>31</td>\n",
       "      <td>226</td>\n",
       "      <td>2</td>\n",
       "      <td>47</td>\n",
       "      <td>1961</td>\n",
       "    </tr>\n",
       "    <tr>\n",
       "      <th>60845</th>\n",
       "      <td>4</td>\n",
       "      <td>1117</td>\n",
       "      <td>89</td>\n",
       "      <td>60.0</td>\n",
       "      <td>16</td>\n",
       "      <td>234</td>\n",
       "      <td>3</td>\n",
       "      <td>31</td>\n",
       "      <td>3750</td>\n",
       "    </tr>\n",
       "    <tr>\n",
       "      <th>259</th>\n",
       "      <td>4</td>\n",
       "      <td>206</td>\n",
       "      <td>89</td>\n",
       "      <td>13.0</td>\n",
       "      <td>37</td>\n",
       "      <td>71</td>\n",
       "      <td>2</td>\n",
       "      <td>11</td>\n",
       "      <td>234</td>\n",
       "    </tr>\n",
       "    <tr>\n",
       "      <th>87459</th>\n",
       "      <td>2</td>\n",
       "      <td>146</td>\n",
       "      <td>86</td>\n",
       "      <td>25.0</td>\n",
       "      <td>7</td>\n",
       "      <td>38</td>\n",
       "      <td>8</td>\n",
       "      <td>28</td>\n",
       "      <td>10462</td>\n",
       "    </tr>\n",
       "  </tbody>\n",
       "</table>\n",
       "</div>"
      ],
      "text/plain": [
       "        country  designation  points  price  province  region_1  region_2  \\\n",
       "9449          9         2225      92   19.0        79        79         6   \n",
       "127660        0         6346      90   58.0        31       226         2   \n",
       "60845         4         1117      89   60.0        16       234         3   \n",
       "259           4          206      89   13.0        37        71         2   \n",
       "87459         2          146      86   25.0         7        38         8   \n",
       "\n",
       "        variety  winery  \n",
       "9449         42    3454  \n",
       "127660       47    1961  \n",
       "60845        31    3750  \n",
       "259          11     234  \n",
       "87459        28   10462  "
      ]
     },
     "execution_count": 200,
     "metadata": {},
     "output_type": "execute_result"
    }
   ],
   "source": [
    "for col in filter(lambda c: data_for_model[c].dtype == \"O\", data_for_model.columns):\n",
    "    print(col)\n",
    "    unique = data_for_model[col].unique()\n",
    "    mapping = dict(map(lambda x: [x[1], x[0]], enumerate(unique)))\n",
    "    new_col = data_for_model[col].replace(mapping)\n",
    "    data_for_model[col] = new_col\n",
    "\n",
    "data_for_model.sample(5)"
   ]
  },
  {
   "cell_type": "code",
   "execution_count": 201,
   "metadata": {},
   "outputs": [],
   "source": [
    "X = data_for_model.loc[:, data_for_model.columns != \"points\"]\n",
    "y = data_for_model.loc[:, data_for_model.columns == \"points\"]"
   ]
  },
  {
   "cell_type": "code",
   "execution_count": 202,
   "metadata": {},
   "outputs": [],
   "source": [
    "x_train, x_test, y_train, y_test = train_test_split(X, y, test_size=0.2, random_state=42)"
   ]
  },
  {
   "cell_type": "code",
   "execution_count": 203,
   "metadata": {},
   "outputs": [
    {
     "name": "stdout",
     "output_type": "stream",
     "text": [
      "Train accuracy: 0.17570001272550906\n",
      "Test accuracy: 0.16704532004460382\n"
     ]
    }
   ],
   "source": [
    "lr = LinearRegression()\n",
    "lr.fit(x_train, y_train)\n",
    "print(\"Train accuracy:\", lr.score(x_train, y_train))\n",
    "print(\"Test accuracy:\",  lr.score(x_test, y_test))"
   ]
  },
  {
   "cell_type": "markdown",
   "metadata": {},
   "source": [
    "## Data Transformation"
   ]
  },
  {
   "cell_type": "markdown",
   "metadata": {},
   "source": [
    "Transform string values into numerical ones."
   ]
  },
  {
   "cell_type": "code",
   "execution_count": 210,
   "metadata": {},
   "outputs": [
    {
     "name": "stdout",
     "output_type": "stream",
     "text": [
      "country\n",
      "province\n",
      "region_1\n",
      "region_2\n",
      "variety\n",
      "winery\n"
     ]
    }
   ],
   "source": [
    "transformed_data = deepcopy(mv_replaced_data)\n",
    "str2int_mappings = {}\n",
    "for col in [\"country\", \"province\", \"region_1\", \"region_2\", \"variety\", \"winery\"]:\n",
    "    print(col)\n",
    "    unique = transformed_data[col].unique()\n",
    "    mapping = dict(map(lambda x: [x[1], x[0]], enumerate(unique, start=1)))\n",
    "    str2int_mappings[col] = mapping\n",
    "    new_col = transformed_data[col].replace(mapping)\n",
    "    transformed_data[col] = new_col"
   ]
  },
  {
   "cell_type": "code",
   "execution_count": 212,
   "metadata": {},
   "outputs": [],
   "source": [
    "col = \"designation\"\n",
    "unique = transformed_data[col].unique()\n",
    "mapping = dict(map(lambda x: [x[1], x[0]], enumerate(unique)))\n",
    "new_col = transformed_data[col].replace(mapping)\n",
    "transformed_data[col] = new_col\n",
    "str2int_mappings[col] = mapping"
   ]
  },
  {
   "cell_type": "code",
   "execution_count": 213,
   "metadata": {},
   "outputs": [],
   "source": [
    "transformed_data.to_csv(\"data/wine_transformed.csv\", index=False)"
   ]
  },
  {
   "cell_type": "markdown",
   "metadata": {},
   "source": [
    "## Investigate and reduce outliers"
   ]
  },
  {
   "cell_type": "code",
   "execution_count": 214,
   "metadata": {},
   "outputs": [
    {
     "data": {
      "text/plain": [
       "array([[<matplotlib.axes._subplots.AxesSubplot object at 0x7fe18223c550>,\n",
       "        <matplotlib.axes._subplots.AxesSubplot object at 0x7fe1808c75f8>,\n",
       "        <matplotlib.axes._subplots.AxesSubplot object at 0x7fe180804b70>],\n",
       "       [<matplotlib.axes._subplots.AxesSubplot object at 0x7fe1807d4128>,\n",
       "        <matplotlib.axes._subplots.AxesSubplot object at 0x7fe1810926a0>,\n",
       "        <matplotlib.axes._subplots.AxesSubplot object at 0x7fe1810b2c18>],\n",
       "       [<matplotlib.axes._subplots.AxesSubplot object at 0x7fe180f201d0>,\n",
       "        <matplotlib.axes._subplots.AxesSubplot object at 0x7fe180f3f780>,\n",
       "        <matplotlib.axes._subplots.AxesSubplot object at 0x7fe180f3f7b8>]],\n",
       "      dtype=object)"
      ]
     },
     "execution_count": 214,
     "metadata": {},
     "output_type": "execute_result"
    },
    {
     "data": {
      "image/png": "[encoded data removed]",
      "text/plain": [
       "<Figure size 432x288 with 9 Axes>"
      ]
     },
     "metadata": {
      "needs_background": "light"
     },
     "output_type": "display_data"
    }
   ],
   "source": [
    "%matplotlib inline\n",
    "transformed_data.hist()"
   ]
  },
  {
   "cell_type": "markdown",
   "metadata": {},
   "source": [
    "Observe that columns have a really small amount of outliers. Lets ivestigate more precise only 'region_2' column."
   ]
  },
  {
   "cell_type": "code",
   "execution_count": 215,
   "metadata": {},
   "outputs": [
    {
     "data": {
      "text/plain": [
       "<matplotlib.axes._subplots.AxesSubplot at 0x7fe180881be0>"
      ]
     },
     "execution_count": 215,
     "metadata": {},
     "output_type": "execute_result"
    },
    {
     "data": {
      "image/png": "[encoded data removed]",
      "text/plain": [
       "<Figure size 432x288 with 1 Axes>"
      ]
     },
     "metadata": {
      "needs_background": "light"
     },
     "output_type": "display_data"
    }
   ],
   "source": [
    "transformed_data.region_2.hist()"
   ]
  },
  {
   "cell_type": "markdown",
   "metadata": {},
   "source": [
    "See that amount of outliers is unsignificant. The more serious problem we observe is high similarity of data. We will deal with that on the next steps"
   ]
  },
  {
   "cell_type": "code",
   "execution_count": 216,
   "metadata": {},
   "outputs": [
    {
     "data": {
      "text/plain": [
       "<matplotlib.axes._subplots.AxesSubplot at 0x7fe1821a8470>"
      ]
     },
     "execution_count": 216,
     "metadata": {},
     "output_type": "execute_result"
    },
    {
     "data": {
      "image/png": "[encoded data removed]",
      "text/plain": [
       "<Figure size 432x288 with 1 Axes>"
      ]
     },
     "metadata": {
      "needs_background": "light"
     },
     "output_type": "display_data"
    }
   ],
   "source": [
    "transformed_data.price.hist()"
   ]
  },
  {
   "cell_type": "markdown",
   "metadata": {},
   "source": [
    "The problem of similarity touches almost every column of dataset, except for target column 'points', which is distributed nearly to normal."
   ]
  }
 ],
 "metadata": {
  "kernelspec": {
   "display_name": "Python (ai_hw3)",
   "language": "python",
   "name": "ai_hw3"
  },
  "language_info": {
   "codemirror_mode": {
    "name": "ipython",
    "version": 3
   },
   "file_extension": ".py",
   "mimetype": "text/x-python",
   "name": "python",
   "nbconvert_exporter": "python",
   "pygments_lexer": "ipython3",
   "version": "3.6.6"
  }
 },
 "nbformat": 4,
 "nbformat_minor": 2
}
