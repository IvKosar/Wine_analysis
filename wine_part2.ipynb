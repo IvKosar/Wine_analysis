{
 "cells": [
  {
   "cell_type": "code",
   "execution_count": 45,
   "metadata": {},
   "outputs": [],
   "source": [
    "import pandas as pd\n",
    "import numpy as np\n",
    "from sklearn.linear_model import LinearRegression, LogisticRegression\n",
    "from sklearn.model_selection import train_test_split\n",
    "from sklearn.impute import SimpleImputer\n",
    "from sklearn.decomposition import PCA\n",
    "from sklearn.model_selection import train_test_split\n",
    "from sklearn.ensemble import ExtraTreesClassifier\n",
    "from sklearn.feature_selection import SelectFromModel\n",
    "from sklearn.svm import SVC\n",
    "from sklearn.naive_bayes import GaussianNB\n",
    "from sklearn.ensemble import RandomForestClassifier"
   ]
  },
  {
   "cell_type": "code",
   "execution_count": 3,
   "metadata": {},
   "outputs": [
    {
     "data": {
      "text/html": [
       "<div>\n",
       "<style scoped>\n",
       "    .dataframe tbody tr th:only-of-type {\n",
       "        vertical-align: middle;\n",
       "    }\n",
       "\n",
       "    .dataframe tbody tr th {\n",
       "        vertical-align: top;\n",
       "    }\n",
       "\n",
       "    .dataframe thead th {\n",
       "        text-align: right;\n",
       "    }\n",
       "</style>\n",
       "<table border=\"1\" class=\"dataframe\">\n",
       "  <thead>\n",
       "    <tr style=\"text-align: right;\">\n",
       "      <th></th>\n",
       "      <th>country</th>\n",
       "      <th>designation</th>\n",
       "      <th>points</th>\n",
       "      <th>price</th>\n",
       "      <th>province</th>\n",
       "      <th>region_1</th>\n",
       "      <th>region_2</th>\n",
       "      <th>variety</th>\n",
       "      <th>winery</th>\n",
       "    </tr>\n",
       "  </thead>\n",
       "  <tbody>\n",
       "    <tr>\n",
       "      <th>0</th>\n",
       "      <td>1</td>\n",
       "      <td>0</td>\n",
       "      <td>87</td>\n",
       "      <td>35.3634</td>\n",
       "      <td>1</td>\n",
       "      <td>1</td>\n",
       "      <td>1</td>\n",
       "      <td>1</td>\n",
       "      <td>1</td>\n",
       "    </tr>\n",
       "    <tr>\n",
       "      <th>1</th>\n",
       "      <td>2</td>\n",
       "      <td>1</td>\n",
       "      <td>87</td>\n",
       "      <td>15.0000</td>\n",
       "      <td>2</td>\n",
       "      <td>2</td>\n",
       "      <td>1</td>\n",
       "      <td>2</td>\n",
       "      <td>2</td>\n",
       "    </tr>\n",
       "    <tr>\n",
       "      <th>2</th>\n",
       "      <td>3</td>\n",
       "      <td>2</td>\n",
       "      <td>87</td>\n",
       "      <td>14.0000</td>\n",
       "      <td>3</td>\n",
       "      <td>3</td>\n",
       "      <td>2</td>\n",
       "      <td>3</td>\n",
       "      <td>3</td>\n",
       "    </tr>\n",
       "    <tr>\n",
       "      <th>3</th>\n",
       "      <td>3</td>\n",
       "      <td>3</td>\n",
       "      <td>87</td>\n",
       "      <td>13.0000</td>\n",
       "      <td>4</td>\n",
       "      <td>4</td>\n",
       "      <td>1</td>\n",
       "      <td>4</td>\n",
       "      <td>4</td>\n",
       "    </tr>\n",
       "    <tr>\n",
       "      <th>4</th>\n",
       "      <td>3</td>\n",
       "      <td>4</td>\n",
       "      <td>87</td>\n",
       "      <td>65.0000</td>\n",
       "      <td>3</td>\n",
       "      <td>3</td>\n",
       "      <td>2</td>\n",
       "      <td>5</td>\n",
       "      <td>5</td>\n",
       "    </tr>\n",
       "  </tbody>\n",
       "</table>\n",
       "</div>"
      ],
      "text/plain": [
       "   country  designation  points    price  province  region_1  region_2  \\\n",
       "0        1            0      87  35.3634         1         1         1   \n",
       "1        2            1      87  15.0000         2         2         1   \n",
       "2        3            2      87  14.0000         3         3         2   \n",
       "3        3            3      87  13.0000         4         4         1   \n",
       "4        3            4      87  65.0000         3         3         2   \n",
       "\n",
       "   variety  winery  \n",
       "0        1       1  \n",
       "1        2       2  \n",
       "2        3       3  \n",
       "3        4       4  \n",
       "4        5       5  "
      ]
     },
     "execution_count": 3,
     "metadata": {},
     "output_type": "execute_result"
    }
   ],
   "source": [
    "data = pd.read_csv('data/wine_transformed.csv', sep=\",\")\n",
    "data.head()"
   ]
  },
  {
   "cell_type": "markdown",
   "metadata": {},
   "source": [
    "## Data normalization"
   ]
  },
  {
   "cell_type": "code",
   "execution_count": 4,
   "metadata": {},
   "outputs": [
    {
     "data": {
      "text/html": [
       "<div>\n",
       "<style scoped>\n",
       "    .dataframe tbody tr th:only-of-type {\n",
       "        vertical-align: middle;\n",
       "    }\n",
       "\n",
       "    .dataframe tbody tr th {\n",
       "        vertical-align: top;\n",
       "    }\n",
       "\n",
       "    .dataframe thead th {\n",
       "        text-align: right;\n",
       "    }\n",
       "</style>\n",
       "<table border=\"1\" class=\"dataframe\">\n",
       "  <thead>\n",
       "    <tr style=\"text-align: right;\">\n",
       "      <th></th>\n",
       "      <th>country</th>\n",
       "      <th>designation</th>\n",
       "      <th>points</th>\n",
       "      <th>price</th>\n",
       "      <th>province</th>\n",
       "      <th>region_1</th>\n",
       "      <th>region_2</th>\n",
       "      <th>variety</th>\n",
       "      <th>winery</th>\n",
       "    </tr>\n",
       "  </thead>\n",
       "  <tbody>\n",
       "    <tr>\n",
       "      <th>62312</th>\n",
       "      <td>-0.35322</td>\n",
       "      <td>-0.76791</td>\n",
       "      <td>94</td>\n",
       "      <td>0.74884</td>\n",
       "      <td>-0.53210</td>\n",
       "      <td>-0.66289</td>\n",
       "      <td>-0.51203</td>\n",
       "      <td>-0.49922</td>\n",
       "      <td>2.22404</td>\n",
       "    </tr>\n",
       "    <tr>\n",
       "      <th>111862</th>\n",
       "      <td>0.85020</td>\n",
       "      <td>-0.79858</td>\n",
       "      <td>86</td>\n",
       "      <td>-0.64086</td>\n",
       "      <td>-0.45775</td>\n",
       "      <td>-0.68990</td>\n",
       "      <td>-0.51203</td>\n",
       "      <td>-0.45422</td>\n",
       "      <td>0.57546</td>\n",
       "    </tr>\n",
       "    <tr>\n",
       "      <th>114143</th>\n",
       "      <td>0.24849</td>\n",
       "      <td>2.43954</td>\n",
       "      <td>85</td>\n",
       "      <td>-0.51453</td>\n",
       "      <td>-0.06118</td>\n",
       "      <td>1.47653</td>\n",
       "      <td>-0.51203</td>\n",
       "      <td>-0.04929</td>\n",
       "      <td>-0.63611</td>\n",
       "    </tr>\n",
       "    <tr>\n",
       "      <th>49956</th>\n",
       "      <td>-0.35322</td>\n",
       "      <td>-0.79858</td>\n",
       "      <td>93</td>\n",
       "      <td>-0.08498</td>\n",
       "      <td>-0.53210</td>\n",
       "      <td>1.39550</td>\n",
       "      <td>-0.51203</td>\n",
       "      <td>0.07069</td>\n",
       "      <td>-0.46926</td>\n",
       "    </tr>\n",
       "    <tr>\n",
       "      <th>73433</th>\n",
       "      <td>-0.35322</td>\n",
       "      <td>-0.79858</td>\n",
       "      <td>86</td>\n",
       "      <td>-0.59033</td>\n",
       "      <td>-0.53210</td>\n",
       "      <td>0.21773</td>\n",
       "      <td>-0.51203</td>\n",
       "      <td>-0.46922</td>\n",
       "      <td>-0.93766</td>\n",
       "    </tr>\n",
       "  </tbody>\n",
       "</table>\n",
       "</div>"
      ],
      "text/plain": [
       "        country  designation  points    price  province  region_1  region_2  \\\n",
       "62312  -0.35322     -0.76791      94  0.74884  -0.53210  -0.66289  -0.51203   \n",
       "111862  0.85020     -0.79858      86 -0.64086  -0.45775  -0.68990  -0.51203   \n",
       "114143  0.24849      2.43954      85 -0.51453  -0.06118   1.47653  -0.51203   \n",
       "49956  -0.35322     -0.79858      93 -0.08498  -0.53210   1.39550  -0.51203   \n",
       "73433  -0.35322     -0.79858      86 -0.59033  -0.53210   0.21773  -0.51203   \n",
       "\n",
       "        variety   winery  \n",
       "62312  -0.49922  2.22404  \n",
       "111862 -0.45422  0.57546  \n",
       "114143 -0.04929 -0.63611  \n",
       "49956   0.07069 -0.46926  \n",
       "73433  -0.46922 -0.93766  "
      ]
     },
     "execution_count": 4,
     "metadata": {},
     "output_type": "execute_result"
    }
   ],
   "source": [
    "normalized_data = np.round((data - np.mean(data)) / np.std(data), 5)\n",
    "normalized_data.points = data.points\n",
    "normalized_data.sample(5)"
   ]
  },
  {
   "cell_type": "markdown",
   "metadata": {},
   "source": [
    "## Dimension reduction/Feature Selection"
   ]
  },
  {
   "cell_type": "markdown",
   "metadata": {},
   "source": [
    "We observed in previous work that our data has very similar values. We can deal with that by applying dimension reduction to the dataset. This also decreases training time without significant loss in accuracy."
   ]
  },
  {
   "cell_type": "markdown",
   "metadata": {},
   "source": [
    "### Apply PCA"
   ]
  },
  {
   "cell_type": "code",
   "execution_count": 19,
   "metadata": {},
   "outputs": [],
   "source": [
    "pca = PCA(n_components=6)\n",
    "reduced_data = pd.DataFrame(pca.fit_transform(normalized_data.loc[:, normalized_data.columns != \"points\"]))"
   ]
  },
  {
   "cell_type": "code",
   "execution_count": 20,
   "metadata": {},
   "outputs": [
    {
     "data": {
      "text/html": [
       "<div>\n",
       "<style scoped>\n",
       "    .dataframe tbody tr th:only-of-type {\n",
       "        vertical-align: middle;\n",
       "    }\n",
       "\n",
       "    .dataframe tbody tr th {\n",
       "        vertical-align: top;\n",
       "    }\n",
       "\n",
       "    .dataframe thead th {\n",
       "        text-align: right;\n",
       "    }\n",
       "</style>\n",
       "<table border=\"1\" class=\"dataframe\">\n",
       "  <thead>\n",
       "    <tr style=\"text-align: right;\">\n",
       "      <th></th>\n",
       "      <th>0</th>\n",
       "      <th>1</th>\n",
       "      <th>2</th>\n",
       "      <th>3</th>\n",
       "      <th>4</th>\n",
       "      <th>5</th>\n",
       "      <th>points</th>\n",
       "    </tr>\n",
       "  </thead>\n",
       "  <tbody>\n",
       "    <tr>\n",
       "      <th>0</th>\n",
       "      <td>-1.352087</td>\n",
       "      <td>-0.958920</td>\n",
       "      <td>0.247029</td>\n",
       "      <td>0.642651</td>\n",
       "      <td>0.302715</td>\n",
       "      <td>-1.054143</td>\n",
       "      <td>87</td>\n",
       "    </tr>\n",
       "    <tr>\n",
       "      <th>1</th>\n",
       "      <td>-1.115604</td>\n",
       "      <td>-1.138431</td>\n",
       "      <td>-0.139064</td>\n",
       "      <td>0.446499</td>\n",
       "      <td>0.258602</td>\n",
       "      <td>-1.153904</td>\n",
       "      <td>87</td>\n",
       "    </tr>\n",
       "    <tr>\n",
       "      <th>2</th>\n",
       "      <td>-1.038342</td>\n",
       "      <td>-1.283100</td>\n",
       "      <td>-0.236290</td>\n",
       "      <td>0.371106</td>\n",
       "      <td>0.151458</td>\n",
       "      <td>-0.843155</td>\n",
       "      <td>87</td>\n",
       "    </tr>\n",
       "    <tr>\n",
       "      <th>3</th>\n",
       "      <td>-0.901394</td>\n",
       "      <td>-1.243515</td>\n",
       "      <td>-0.173843</td>\n",
       "      <td>0.433160</td>\n",
       "      <td>0.254711</td>\n",
       "      <td>-1.078389</td>\n",
       "      <td>87</td>\n",
       "    </tr>\n",
       "    <tr>\n",
       "      <th>4</th>\n",
       "      <td>-1.146433</td>\n",
       "      <td>-1.081210</td>\n",
       "      <td>0.746329</td>\n",
       "      <td>0.864922</td>\n",
       "      <td>0.271201</td>\n",
       "      <td>-0.379655</td>\n",
       "      <td>87</td>\n",
       "    </tr>\n",
       "  </tbody>\n",
       "</table>\n",
       "</div>"
      ],
      "text/plain": [
       "          0         1         2         3         4         5  points\n",
       "0 -1.352087 -0.958920  0.247029  0.642651  0.302715 -1.054143      87\n",
       "1 -1.115604 -1.138431 -0.139064  0.446499  0.258602 -1.153904      87\n",
       "2 -1.038342 -1.283100 -0.236290  0.371106  0.151458 -0.843155      87\n",
       "3 -0.901394 -1.243515 -0.173843  0.433160  0.254711 -1.078389      87\n",
       "4 -1.146433 -1.081210  0.746329  0.864922  0.271201 -0.379655      87"
      ]
     },
     "execution_count": 20,
     "metadata": {},
     "output_type": "execute_result"
    }
   ],
   "source": [
    "reduced_data[\"points\"] = normalized_data.points\n",
    "reduced_data.head()"
   ]
  },
  {
   "cell_type": "code",
   "execution_count": 21,
   "metadata": {},
   "outputs": [
    {
     "data": {
      "text/plain": [
       "array([[<matplotlib.axes._subplots.AxesSubplot object at 0x7fb2264cf828>,\n",
       "        <matplotlib.axes._subplots.AxesSubplot object at 0x7fb2262544a8>,\n",
       "        <matplotlib.axes._subplots.AxesSubplot object at 0x7fb2261fe9e8>],\n",
       "       [<matplotlib.axes._subplots.AxesSubplot object at 0x7fb226226f60>,\n",
       "        <matplotlib.axes._subplots.AxesSubplot object at 0x7fb2261d8518>,\n",
       "        <matplotlib.axes._subplots.AxesSubplot object at 0x7fb226180a90>],\n",
       "       [<matplotlib.axes._subplots.AxesSubplot object at 0x7fb2261b1048>,\n",
       "        <matplotlib.axes._subplots.AxesSubplot object at 0x7fb2261575f8>,\n",
       "        <matplotlib.axes._subplots.AxesSubplot object at 0x7fb226157630>]],\n",
       "      dtype=object)"
      ]
     },
     "execution_count": 21,
     "metadata": {},
     "output_type": "execute_result"
    },
    {
     "data": {
      "image/png": "[encoded data removed]",
      "text/plain": [
       "<Figure size 432x288 with 9 Axes>"
      ]
     },
     "metadata": {
      "needs_background": "light"
     },
     "output_type": "display_data"
    }
   ],
   "source": [
    "%matplotlib inline\n",
    "reduced_data.hist()"
   ]
  },
  {
   "cell_type": "markdown",
   "metadata": {},
   "source": [
    "#### Test"
   ]
  },
  {
   "cell_type": "code",
   "execution_count": 22,
   "metadata": {},
   "outputs": [],
   "source": [
    "X = reduced_data.loc[:, reduced_data.columns != \"points\"]\n",
    "y = reduced_data.points"
   ]
  },
  {
   "cell_type": "code",
   "execution_count": 23,
   "metadata": {},
   "outputs": [],
   "source": [
    "x_train, x_test, y_train, y_test = train_test_split(X, y, test_size=0.2, random_state=42)"
   ]
  },
  {
   "cell_type": "code",
   "execution_count": 24,
   "metadata": {},
   "outputs": [
    {
     "name": "stdout",
     "output_type": "stream",
     "text": [
      "Train accuracy: 0.17833867827065897\n",
      "Test accuracy: 0.17048822027870178\n"
     ]
    }
   ],
   "source": [
    "lr = LinearRegression()\n",
    "lr.fit(x_train, y_train)\n",
    "print(\"Train accuracy:\", lr.score(x_train, y_train))\n",
    "print(\"Test accuracy:\",  lr.score(x_test, y_test))"
   ]
  },
  {
   "cell_type": "markdown",
   "metadata": {},
   "source": [
    "### Apply Decision Trees"
   ]
  },
  {
   "cell_type": "code",
   "execution_count": 25,
   "metadata": {},
   "outputs": [],
   "source": [
    "X = normalized_data.loc[:, normalized_data.columns != \"points\"]\n",
    "y = normalized_data.points"
   ]
  },
  {
   "cell_type": "code",
   "execution_count": 26,
   "metadata": {},
   "outputs": [
    {
     "data": {
      "text/plain": [
       "ExtraTreesClassifier(bootstrap=False, class_weight=None, criterion='gini',\n",
       "           max_depth=None, max_features='auto', max_leaf_nodes=None,\n",
       "           min_impurity_decrease=0.0, min_impurity_split=None,\n",
       "           min_samples_leaf=1, min_samples_split=2,\n",
       "           min_weight_fraction_leaf=0.0, n_estimators=50, n_jobs=None,\n",
       "           oob_score=False, random_state=None, verbose=0, warm_start=False)"
      ]
     },
     "execution_count": 26,
     "metadata": {},
     "output_type": "execute_result"
    }
   ],
   "source": [
    "clf = ExtraTreesClassifier(n_estimators=50)\n",
    "clf.fit(X, y)"
   ]
  },
  {
   "cell_type": "code",
   "execution_count": 27,
   "metadata": {},
   "outputs": [
    {
     "name": "stdout",
     "output_type": "stream",
     "text": [
      "Feature importance\n"
     ]
    },
    {
     "data": {
      "text/plain": [
       "{'country': 0.0245844224613494,\n",
       " 'designation': 0.1792843588799929,\n",
       " 'price': 0.27544528893635056,\n",
       " 'province': 0.050227044076321316,\n",
       " 'region_1': 0.08956882141476978,\n",
       " 'region_2': 0.011283062000776566,\n",
       " 'variety': 0.14041124288091042,\n",
       " 'winery': 0.22919575934952902}"
      ]
     },
     "execution_count": 27,
     "metadata": {},
     "output_type": "execute_result"
    }
   ],
   "source": [
    "print(\"Feature importance\")\n",
    "dict(zip(data.columns[data.columns != \"points\"], clf.feature_importances_  ))"
   ]
  },
  {
   "cell_type": "code",
   "execution_count": 28,
   "metadata": {},
   "outputs": [
    {
     "data": {
      "text/html": [
       "<div>\n",
       "<style scoped>\n",
       "    .dataframe tbody tr th:only-of-type {\n",
       "        vertical-align: middle;\n",
       "    }\n",
       "\n",
       "    .dataframe tbody tr th {\n",
       "        vertical-align: top;\n",
       "    }\n",
       "\n",
       "    .dataframe thead th {\n",
       "        text-align: right;\n",
       "    }\n",
       "</style>\n",
       "<table border=\"1\" class=\"dataframe\">\n",
       "  <thead>\n",
       "    <tr style=\"text-align: right;\">\n",
       "      <th></th>\n",
       "      <th>0</th>\n",
       "      <th>1</th>\n",
       "      <th>2</th>\n",
       "      <th>3</th>\n",
       "      <th>points</th>\n",
       "    </tr>\n",
       "  </thead>\n",
       "  <tbody>\n",
       "    <tr>\n",
       "      <th>0</th>\n",
       "      <td>-0.79876</td>\n",
       "      <td>0.00000</td>\n",
       "      <td>-0.61920</td>\n",
       "      <td>-1.16931</td>\n",
       "      <td>87</td>\n",
       "    </tr>\n",
       "    <tr>\n",
       "      <th>1</th>\n",
       "      <td>-0.79867</td>\n",
       "      <td>-0.51453</td>\n",
       "      <td>-0.60420</td>\n",
       "      <td>-1.16905</td>\n",
       "      <td>87</td>\n",
       "    </tr>\n",
       "    <tr>\n",
       "      <th>2</th>\n",
       "      <td>-0.79858</td>\n",
       "      <td>-0.53979</td>\n",
       "      <td>-0.58920</td>\n",
       "      <td>-1.16880</td>\n",
       "      <td>87</td>\n",
       "    </tr>\n",
       "    <tr>\n",
       "      <th>3</th>\n",
       "      <td>-0.79848</td>\n",
       "      <td>-0.56506</td>\n",
       "      <td>-0.57420</td>\n",
       "      <td>-1.16854</td>\n",
       "      <td>87</td>\n",
       "    </tr>\n",
       "    <tr>\n",
       "      <th>4</th>\n",
       "      <td>-0.79839</td>\n",
       "      <td>0.74884</td>\n",
       "      <td>-0.55921</td>\n",
       "      <td>-1.16829</td>\n",
       "      <td>87</td>\n",
       "    </tr>\n",
       "  </tbody>\n",
       "</table>\n",
       "</div>"
      ],
      "text/plain": [
       "         0        1        2        3  points\n",
       "0 -0.79876  0.00000 -0.61920 -1.16931      87\n",
       "1 -0.79867 -0.51453 -0.60420 -1.16905      87\n",
       "2 -0.79858 -0.53979 -0.58920 -1.16880      87\n",
       "3 -0.79848 -0.56506 -0.57420 -1.16854      87\n",
       "4 -0.79839  0.74884 -0.55921 -1.16829      87"
      ]
     },
     "execution_count": 28,
     "metadata": {},
     "output_type": "execute_result"
    }
   ],
   "source": [
    "model = SelectFromModel(clf, prefit=True)\n",
    "tree_reduced_data = pd.DataFrame(model.transform(X))\n",
    "tree_reduced_data[\"points\"] = data.points\n",
    "tree_reduced_data.head()"
   ]
  },
  {
   "cell_type": "code",
   "execution_count": 29,
   "metadata": {},
   "outputs": [
    {
     "data": {
      "text/plain": [
       "array([[<matplotlib.axes._subplots.AxesSubplot object at 0x7fb2260134e0>,\n",
       "        <matplotlib.axes._subplots.AxesSubplot object at 0x7fb225f3e208>],\n",
       "       [<matplotlib.axes._subplots.AxesSubplot object at 0x7fb225f636a0>,\n",
       "        <matplotlib.axes._subplots.AxesSubplot object at 0x7fb225f08c18>],\n",
       "       [<matplotlib.axes._subplots.AxesSubplot object at 0x7fb225eb91d0>,\n",
       "        <matplotlib.axes._subplots.AxesSubplot object at 0x7fb225ee1748>]],\n",
       "      dtype=object)"
      ]
     },
     "execution_count": 29,
     "metadata": {},
     "output_type": "execute_result"
    },
    {
     "data": {
      "image/png": "[encoded data removed]",
      "text/plain": [
       "<Figure size 432x288 with 6 Axes>"
      ]
     },
     "metadata": {
      "needs_background": "light"
     },
     "output_type": "display_data"
    }
   ],
   "source": [
    "%matplotlib inline\n",
    "tree_reduced_data.hist()"
   ]
  },
  {
   "cell_type": "markdown",
   "metadata": {},
   "source": [
    "#### Test"
   ]
  },
  {
   "cell_type": "code",
   "execution_count": 30,
   "metadata": {},
   "outputs": [],
   "source": [
    "X = tree_reduced_data.loc[:, tree_reduced_data.columns != \"points\"]\n",
    "y = tree_reduced_data.points"
   ]
  },
  {
   "cell_type": "code",
   "execution_count": 31,
   "metadata": {},
   "outputs": [],
   "source": [
    "x_train, x_test, y_train, y_test = train_test_split(X, y, test_size=0.2, random_state=42)"
   ]
  },
  {
   "cell_type": "code",
   "execution_count": 32,
   "metadata": {},
   "outputs": [
    {
     "name": "stdout",
     "output_type": "stream",
     "text": [
      "Train accuracy: 0.17845664333153388\n",
      "Test accuracy: 0.16936618600215347\n"
     ]
    }
   ],
   "source": [
    "lr = LinearRegression()\n",
    "lr.fit(x_train, y_train)\n",
    "print(\"Train accuracy:\", lr.score(x_train, y_train))\n",
    "print(\"Test accuracy:\",  lr.score(x_test, y_test))"
   ]
  },
  {
   "cell_type": "markdown",
   "metadata": {},
   "source": [
    "## Model Selection"
   ]
  },
  {
   "cell_type": "code",
   "execution_count": 39,
   "metadata": {},
   "outputs": [],
   "source": [
    "X = reduced_data.loc[:, reduced_data.columns != \"points\"]\n",
    "y = reduced_data.points"
   ]
  },
  {
   "cell_type": "code",
   "execution_count": 40,
   "metadata": {},
   "outputs": [],
   "source": [
    "x_train, x_test, y_train, y_test = train_test_split(X, y, test_size=0.2, random_state=42)"
   ]
  },
  {
   "cell_type": "code",
   "execution_count": 35,
   "metadata": {},
   "outputs": [
    {
     "name": "stderr",
     "output_type": "stream",
     "text": [
      "/home/vosar/anaconda3/envs/ai_hw3/lib/python3.6/site-packages/sklearn/svm/base.py:196: FutureWarning: The default value of gamma will change from 'auto' to 'scale' in version 0.22 to account better for unscaled features. Set gamma explicitly to 'auto' or 'scale' to avoid this warning.\n",
      "  \"avoid this warning.\", FutureWarning)\n"
     ]
    },
    {
     "name": "stdout",
     "output_type": "stream",
     "text": [
      "Train accuracy: 0.17714664922674464\n",
      "Test accuracy: 0.16937872667820736\n"
     ]
    }
   ],
   "source": [
    "svm = SVC().fit(x_train, y_train)\n",
    "print(\"Train accuracy:\", svm.score(x_train, y_train))\n",
    "print(\"Test accuracy:\",  svm.score(x_test, y_test))"
   ]
  },
  {
   "cell_type": "code",
   "execution_count": 49,
   "metadata": {},
   "outputs": [
    {
     "name": "stderr",
     "output_type": "stream",
     "text": [
      "/home/vosar/anaconda3/envs/ai_hw3/lib/python3.6/site-packages/sklearn/linear_model/logistic.py:432: FutureWarning: Default solver will be changed to 'lbfgs' in 0.22. Specify a solver to silence this warning.\n",
      "  FutureWarning)\n",
      "/home/vosar/anaconda3/envs/ai_hw3/lib/python3.6/site-packages/sklearn/linear_model/logistic.py:459: FutureWarning: Default multi_class will be changed to 'auto' in 0.22. Specify the multi_class option to silence this warning.\n",
      "  \"this warning.\", FutureWarning)\n"
     ]
    },
    {
     "name": "stdout",
     "output_type": "stream",
     "text": [
      "Train accuracy: 0.15665153496960837\n",
      "Test accuracy: 0.1554914406616657\n"
     ]
    }
   ],
   "source": [
    "lr = LogisticRegression(C=100, intercept_scaling=50, random_state=42).fit(x_train, y_train)\n",
    "print(\"Train accuracy:\", lr.score(x_train, y_train))\n",
    "print(\"Test accuracy:\",  lr.score(x_test, y_test))"
   ]
  },
  {
   "cell_type": "code",
   "execution_count": null,
   "metadata": {},
   "outputs": [],
   "source": []
  }
 ],
 "metadata": {
  "kernelspec": {
   "display_name": "Python (ai_hw3)",
   "language": "python",
   "name": "ai_hw3"
  },
  "language_info": {
   "codemirror_mode": {
    "name": "ipython",
    "version": 3
   },
   "file_extension": ".py",
   "mimetype": "text/x-python",
   "name": "python",
   "nbconvert_exporter": "python",
   "pygments_lexer": "ipython3",
   "version": "3.6.6"
  }
 },
 "nbformat": 4,
 "nbformat_minor": 2
}
